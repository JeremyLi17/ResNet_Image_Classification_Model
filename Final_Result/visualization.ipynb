{
 "cells": [
  {
   "cell_type": "code",
   "execution_count": 2,
   "metadata": {},
   "outputs": [],
   "source": [
    "import torch\n",
    "from torchsummary import summary\n",
    "from resnet_3blocks import *"
   ]
  },
  {
   "cell_type": "code",
   "execution_count": 4,
   "metadata": {},
   "outputs": [
    {
     "name": "stdout",
     "output_type": "stream",
     "text": [
      "Test Acc 95.8\n"
     ]
    }
   ],
   "source": [
    "state = torch.load(\"./SGD-222-256-auto(95.80).pth\",map_location=torch.device('cpu'))\n",
    "print(\"Test Acc\", state['acc'])"
   ]
  },
  {
   "cell_type": "code",
   "execution_count": 5,
   "metadata": {},
   "outputs": [
    {
     "name": "stdout",
     "output_type": "stream",
     "text": [
      "=================================================================\n",
      "Layer (type:depth-idx)                   Param #\n",
      "=================================================================\n",
      "├─ResNet: 1-1                            --\n",
      "|    └─Conv2d: 2-1                       1,728\n",
      "|    └─BatchNorm2d: 2-2                  128\n",
      "|    └─Sequential: 2-3                   --\n",
      "|    |    └─BasicBlock: 3-1              144,960\n",
      "|    |    └─BasicBlock: 3-2              166,272\n",
      "|    └─Sequential: 2-4                   --\n",
      "|    |    └─BasicBlock: 3-3              837,120\n",
      "|    |    └─BasicBlock: 3-4              1,180,672\n",
      "|    └─Sequential: 2-5                   --\n",
      "|    |    └─BasicBlock: 3-5              1,246,720\n",
      "|    |    └─BasicBlock: 3-6              1,180,672\n",
      "|    └─Linear: 2-6                       10,250\n",
      "=================================================================\n",
      "Total params: 4,768,522\n",
      "Trainable params: 4,768,522\n",
      "Non-trainable params: 0\n",
      "=================================================================\n",
      "=================================================================\n",
      "Layer (type:depth-idx)                   Param #\n",
      "=================================================================\n",
      "├─ResNet: 1-1                            --\n",
      "|    └─Conv2d: 2-1                       1,728\n",
      "|    └─BatchNorm2d: 2-2                  128\n",
      "|    └─Sequential: 2-3                   --\n",
      "|    |    └─BasicBlock: 3-1              144,960\n",
      "|    |    └─BasicBlock: 3-2              166,272\n",
      "|    └─Sequential: 2-4                   --\n",
      "|    |    └─BasicBlock: 3-3              837,120\n",
      "|    |    └─BasicBlock: 3-4              1,180,672\n",
      "|    └─Sequential: 2-5                   --\n",
      "|    |    └─BasicBlock: 3-5              1,246,720\n",
      "|    |    └─BasicBlock: 3-6              1,180,672\n",
      "|    └─Linear: 2-6                       10,250\n",
      "=================================================================\n",
      "Total params: 4,768,522\n",
      "Trainable params: 4,768,522\n",
      "Non-trainable params: 0\n",
      "=================================================================\n"
     ]
    }
   ],
   "source": [
    "net = ResNet18()\n",
    "net = torch.nn.DataParallel(net)\n",
    "net.load_state_dict(state, strict=False)\n",
    "print(summary(net))"
   ]
  }
 ],
 "metadata": {
  "kernelspec": {
   "display_name": "Python 3.8.13 ('torch')",
   "language": "python",
   "name": "python3"
  },
  "language_info": {
   "codemirror_mode": {
    "name": "ipython",
    "version": 3
   },
   "file_extension": ".py",
   "mimetype": "text/x-python",
   "name": "python",
   "nbconvert_exporter": "python",
   "pygments_lexer": "ipython3",
   "version": "3.8.13"
  },
  "orig_nbformat": 4,
  "vscode": {
   "interpreter": {
    "hash": "758a4b49fdd3313cc6cd62d4c1c617d996a1d8959375deb665851091ec533968"
   }
  }
 },
 "nbformat": 4,
 "nbformat_minor": 2
}
