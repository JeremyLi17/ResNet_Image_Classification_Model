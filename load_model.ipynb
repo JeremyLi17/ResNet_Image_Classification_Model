{
 "cells": [
  {
   "cell_type": "code",
   "execution_count": 1,
   "metadata": {},
   "outputs": [],
   "source": [
    "import torch\n",
    "from torchsummary import summary\n",
    "# from resnet import ResNet18\n",
    "# from resnet_og import *\n",
    "# from resnet import *\n",
    "from resnet_kernel_5 import *\n",
    "# from resnet_3blocks import *"
   ]
  },
  {
   "cell_type": "code",
   "execution_count": 12,
   "metadata": {},
   "outputs": [
    {
     "name": "stdout",
     "output_type": "stream",
     "text": [
      "done\n"
     ]
    }
   ],
   "source": [
    "state = torch.load(\"./Candidate_Model/SGD-22222(94.480).pth\",map_location=torch.device('cpu'))\n",
    "net = ResNet18()\n",
    "net = torch.nn.DataParallel(net)\n",
    "net.load_state_dict(state, strict=False)\n",
    "print(\"done\")"
   ]
  },
  {
   "cell_type": "code",
   "execution_count": 13,
   "metadata": {},
   "outputs": [
    {
     "name": "stdout",
     "output_type": "stream",
     "text": [
      "94.48\n",
      "180\n"
     ]
    }
   ],
   "source": [
    "print(state['acc'])\n",
    "print(state['epoch'])"
   ]
  },
  {
   "cell_type": "code",
   "execution_count": 14,
   "metadata": {},
   "outputs": [
    {
     "name": "stdout",
     "output_type": "stream",
     "text": [
      "=================================================================\n",
      "Layer (type:depth-idx)                   Param #\n",
      "=================================================================\n",
      "├─ResNet: 1-1                            --\n",
      "|    └─Conv2d: 2-1                       1,728\n",
      "|    └─BatchNorm2d: 2-2                  128\n",
      "|    └─Sequential: 2-3                   --\n",
      "|    |    └─BasicBlock: 3-1              205,056\n",
      "|    |    └─BasicBlock: 3-2              205,056\n",
      "|    |    └─BasicBlock: 3-3              205,056\n",
      "|    └─Sequential: 2-4                   --\n",
      "|    |    └─BasicBlock: 3-4              209,280\n",
      "|    |    └─BasicBlock: 3-5              205,056\n",
      "|    └─Sequential: 2-5                   --\n",
      "|    |    └─BasicBlock: 3-6              623,360\n",
      "|    |    └─BasicBlock: 3-7              819,712\n",
      "|    └─Sequential: 2-6                   --\n",
      "|    |    └─BasicBlock: 3-8              2,491,904\n",
      "|    └─Linear: 2-7                       2,570\n",
      "=================================================================\n",
      "Total params: 4,968,906\n",
      "Trainable params: 4,968,906\n",
      "Non-trainable params: 0\n",
      "=================================================================\n",
      "=================================================================\n",
      "Layer (type:depth-idx)                   Param #\n",
      "=================================================================\n",
      "├─ResNet: 1-1                            --\n",
      "|    └─Conv2d: 2-1                       1,728\n",
      "|    └─BatchNorm2d: 2-2                  128\n",
      "|    └─Sequential: 2-3                   --\n",
      "|    |    └─BasicBlock: 3-1              205,056\n",
      "|    |    └─BasicBlock: 3-2              205,056\n",
      "|    |    └─BasicBlock: 3-3              205,056\n",
      "|    └─Sequential: 2-4                   --\n",
      "|    |    └─BasicBlock: 3-4              209,280\n",
      "|    |    └─BasicBlock: 3-5              205,056\n",
      "|    └─Sequential: 2-5                   --\n",
      "|    |    └─BasicBlock: 3-6              623,360\n",
      "|    |    └─BasicBlock: 3-7              819,712\n",
      "|    └─Sequential: 2-6                   --\n",
      "|    |    └─BasicBlock: 3-8              2,491,904\n",
      "|    └─Linear: 2-7                       2,570\n",
      "=================================================================\n",
      "Total params: 4,968,906\n",
      "Trainable params: 4,968,906\n",
      "Non-trainable params: 0\n",
      "=================================================================\n"
     ]
    }
   ],
   "source": [
    "print(summary(net))"
   ]
  }
 ],
 "metadata": {
  "kernelspec": {
   "display_name": "Python 3.8.13 ('torch')",
   "language": "python",
   "name": "python3"
  },
  "language_info": {
   "codemirror_mode": {
    "name": "ipython",
    "version": 3
   },
   "file_extension": ".py",
   "mimetype": "text/x-python",
   "name": "python",
   "nbconvert_exporter": "python",
   "pygments_lexer": "ipython3",
   "version": "3.8.13"
  },
  "orig_nbformat": 4,
  "vscode": {
   "interpreter": {
    "hash": "758a4b49fdd3313cc6cd62d4c1c617d996a1d8959375deb665851091ec533968"
   }
  }
 },
 "nbformat": 4,
 "nbformat_minor": 2
}
