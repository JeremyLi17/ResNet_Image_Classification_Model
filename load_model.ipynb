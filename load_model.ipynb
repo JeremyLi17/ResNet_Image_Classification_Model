{
 "cells": [
  {
   "cell_type": "code",
   "execution_count": 1,
   "metadata": {},
   "outputs": [],
   "source": [
    "import torch\n",
    "from torchsummary import summary\n",
    "from resnet import ResNet18"
   ]
  },
  {
   "cell_type": "code",
   "execution_count": 2,
   "metadata": {},
   "outputs": [
    {
     "name": "stdout",
     "output_type": "stream",
     "text": [
      "done\n"
     ]
    }
   ],
   "source": [
    "state = torch.load(\"./Candidate_Model/SGD_93.650.pth\",map_location=torch.device('cpu'))\n",
    "net = ResNet18()\n",
    "net = torch.nn.DataParallel(net)\n",
    "net.load_state_dict(state, strict=False)\n",
    "print(\"done\")"
   ]
  },
  {
   "cell_type": "code",
   "execution_count": 6,
   "metadata": {},
   "outputs": [
    {
     "name": "stdout",
     "output_type": "stream",
     "text": [
      "93.65\n"
     ]
    }
   ],
   "source": [
    "state = torch.load(\"./Candidate_Model/SGD_93.650.pth\",map_location=torch.device('cpu'))\n",
    "print(state['acc'])"
   ]
  },
  {
   "cell_type": "code",
   "execution_count": 13,
   "metadata": {},
   "outputs": [
    {
     "name": "stdout",
     "output_type": "stream",
     "text": [
      "=================================================================\n",
      "Layer (type:depth-idx)                   Param #\n",
      "=================================================================\n",
      "├─ResNet: 1-1                            --\n",
      "|    └─Conv2d: 2-1                       1,728\n",
      "|    └─BatchNorm2d: 2-2                  128\n",
      "|    └─Sequential: 2-3                   --\n",
      "|    |    └─BasicBlock: 3-1              73,984\n",
      "|    |    └─BasicBlock: 3-2              73,984\n",
      "|    └─Sequential: 2-4                   --\n",
      "|    |    └─BasicBlock: 3-3              230,144\n",
      "|    |    └─BasicBlock: 3-4              295,424\n",
      "|    └─Sequential: 2-5                   --\n",
      "|    |    └─BasicBlock: 3-5              919,040\n",
      "|    |    └─BasicBlock: 3-6              1,180,672\n",
      "|    └─Sequential: 2-6                   --\n",
      "|    |    └─BasicBlock: 3-7              1,742,720\n",
      "|    └─Linear: 2-7                       3,210\n",
      "=================================================================\n",
      "Total params: 4,521,034\n",
      "Trainable params: 4,521,034\n",
      "Non-trainable params: 0\n",
      "=================================================================\n",
      "=================================================================\n",
      "Layer (type:depth-idx)                   Param #\n",
      "=================================================================\n",
      "├─ResNet: 1-1                            --\n",
      "|    └─Conv2d: 2-1                       1,728\n",
      "|    └─BatchNorm2d: 2-2                  128\n",
      "|    └─Sequential: 2-3                   --\n",
      "|    |    └─BasicBlock: 3-1              73,984\n",
      "|    |    └─BasicBlock: 3-2              73,984\n",
      "|    └─Sequential: 2-4                   --\n",
      "|    |    └─BasicBlock: 3-3              230,144\n",
      "|    |    └─BasicBlock: 3-4              295,424\n",
      "|    └─Sequential: 2-5                   --\n",
      "|    |    └─BasicBlock: 3-5              919,040\n",
      "|    |    └─BasicBlock: 3-6              1,180,672\n",
      "|    └─Sequential: 2-6                   --\n",
      "|    |    └─BasicBlock: 3-7              1,742,720\n",
      "|    └─Linear: 2-7                       3,210\n",
      "=================================================================\n",
      "Total params: 4,521,034\n",
      "Trainable params: 4,521,034\n",
      "Non-trainable params: 0\n",
      "=================================================================\n"
     ]
    }
   ],
   "source": [
    "print(summary(net))"
   ]
  }
 ],
 "metadata": {
  "kernelspec": {
   "display_name": "Python 3.8.13 ('torch')",
   "language": "python",
   "name": "python3"
  },
  "language_info": {
   "codemirror_mode": {
    "name": "ipython",
    "version": 3
   },
   "file_extension": ".py",
   "mimetype": "text/x-python",
   "name": "python",
   "nbconvert_exporter": "python",
   "pygments_lexer": "ipython3",
   "version": "3.8.13"
  },
  "orig_nbformat": 4,
  "vscode": {
   "interpreter": {
    "hash": "758a4b49fdd3313cc6cd62d4c1c617d996a1d8959375deb665851091ec533968"
   }
  }
 },
 "nbformat": 4,
 "nbformat_minor": 2
}
